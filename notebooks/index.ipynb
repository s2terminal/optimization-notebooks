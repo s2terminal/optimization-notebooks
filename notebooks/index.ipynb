{
 "cells": [
  {
   "cell_type": "markdown",
   "metadata": {
    "id": "Fv07PnVYUxz-"
   },
   "source": [
    "## 生産計画問題の最適解計算\n",
    "定式化された下記問題をPuLPにて解く。\n",
    "\n",
    "\\begin{align}\n",
    "最大化 && z = x_1 + 2x_2 && 利益見込み \\\\\n",
    "制約条件\n",
    "&& x_1 + 3x_2 \\leq 24 && 原料制約\\\\\n",
    "&& 4x_1 + 4x_2 \\leq 48 && 労働時間制約 \\\\\n",
    "&& 2x_1 + x_2 \\leq 22 && 機械稼働制約 \\\\\n",
    "&& x_1 \\geq 0, x_2 \\geq 0 &&非負条件 \n",
    "\\end{align}"
   ]
  },
  {
   "cell_type": "markdown",
   "metadata": {
    "id": "SEbtxKbVpOat"
   },
   "source": [
    "### PuLPパッケージの読み込み\n"
   ]
  },
  {
   "cell_type": "code",
   "execution_count": 16,
   "metadata": {
    "id": "PdoLYzKVQZyv"
   },
   "outputs": [],
   "source": [
    "import pulp"
   ]
  },
  {
   "cell_type": "markdown",
   "metadata": {
    "id": "sk-Oq2K8pR99"
   },
   "source": [
    "### 決定変数の定義"
   ]
  },
  {
   "cell_type": "code",
   "execution_count": 17,
   "metadata": {
    "id": "T4p5Jsd3QmL0"
   },
   "outputs": [],
   "source": [
    "x1 = pulp.LpVariable(name='x1', lowBound=0)\n",
    "x2 = pulp.LpVariable(name='x2', lowBound=0)"
   ]
  },
  {
   "cell_type": "markdown",
   "metadata": {
    "id": "iHto6OBhpYFn"
   },
   "source": [
    "### 問題の定義"
   ]
  },
  {
   "cell_type": "code",
   "execution_count": 18,
   "metadata": {
    "colab": {
     "base_uri": "https://localhost:8080/"
    },
    "id": "h7sXTLf8pXkA",
    "outputId": "374f6d6e-7912-4f0d-ebf2-73df420bb40b"
   },
   "outputs": [
    {
     "data": {
      "text/plain": [
       "生産計画問題:\n",
       "MAXIMIZE\n",
       "1*x1 + 2*x2 + 0\n",
       "SUBJECT TO\n",
       "原料制約: x1 + 3 x2 <= 24\n",
       "\n",
       "労働時間制約: 4 x1 + 4 x2 <= 48\n",
       "\n",
       "機械稼働制約: 2 x1 + x2 <= 22\n",
       "\n",
       "VARIABLES\n",
       "x1 Continuous\n",
       "x2 Continuous"
      ]
     },
     "execution_count": 18,
     "metadata": {},
     "output_type": "execute_result"
    }
   ],
   "source": [
    "p = pulp.LpProblem(name='生産計画問題', sense=pulp.LpMaximize)\n",
    "\n",
    "# 目的関数\n",
    "p += x1 + 2*x2, '目的関数 利益見込み'\n",
    "# 制約条件\n",
    "p += x1 + 3*x2 <= 24, '原料制約'\n",
    "p += 4*x1 + 4*x2 <= 48, '労働時間制約'\n",
    "p += 2*x1 + x2 <= 22, '機械稼働制約'\n",
    "\n",
    "p"
   ]
  },
  {
   "cell_type": "markdown",
   "metadata": {
    "id": "bub0KsyzplOU"
   },
   "source": [
    "### 最適解の計算"
   ]
  },
  {
   "cell_type": "code",
   "execution_count": 19,
   "metadata": {
    "colab": {
     "base_uri": "https://localhost:8080/"
    },
    "id": "CUvRIjRfSSAl",
    "outputId": "7ef262c8-88c5-46c1-b37f-d018029c6a3f"
   },
   "outputs": [
    {
     "name": "stdout",
     "output_type": "stream",
     "text": [
      "Welcome to the CBC MILP Solver \n",
      "Version: 2.10.3 \n",
      "Build Date: Dec 15 2019 \n",
      "\n",
      "command line - /root/.cache/pypoetry/virtualenvs/app-9TtSrW0h-py3.10/lib/python3.10/site-packages/pulp/apis/../solverdir/cbc/linux/64/cbc /tmp/2ba1e82d550d405da031a3a1fee4c435-pulp.mps max timeMode elapsed branch printingOptions all solution /tmp/2ba1e82d550d405da031a3a1fee4c435-pulp.sol (default strategy 1)\n",
      "At line 2 NAME          MODEL\n",
      "At line 3 ROWS\n",
      "At line 8 COLUMNS\n",
      "At line 17 RHS\n",
      "At line 21 BOUNDS\n",
      "At line 22 ENDATA\n",
      "Problem MODEL has 3 rows, 2 columns and 6 elements\n",
      "Coin0008I MODEL read with 0 errors\n",
      "Option for timeMode changed from cpu to elapsed\n",
      "Presolve 3 (0) rows, 2 (0) columns and 6 (0) elements\n",
      "0  Obj -0 Dual inf 2.9999998 (2)\n",
      "0  Obj -0 Dual inf 2.9999998 (2)\n",
      "2  Obj 18\n",
      "Optimal - objective value 18\n",
      "Optimal objective 18 - 2 iterations time 0.002\n",
      "Option for printingOptions changed from normal to all\n",
      "Total time (CPU seconds):       0.00   (Wallclock seconds):       0.00\n",
      "\n"
     ]
    },
    {
     "data": {
      "text/plain": [
       "1"
      ]
     },
     "execution_count": 19,
     "metadata": {},
     "output_type": "execute_result"
    }
   ],
   "source": [
    "result = p.solve()\n",
    "result"
   ]
  },
  {
   "cell_type": "code",
   "execution_count": 20,
   "metadata": {
    "colab": {
     "base_uri": "https://localhost:8080/",
     "height": 35
    },
    "id": "VAdHqDrkSypT",
    "outputId": "aadb7b14-0499-4a83-a784-978189a7ad8c"
   },
   "outputs": [
    {
     "data": {
      "text/plain": [
       "'Optimal'"
      ]
     },
     "execution_count": 20,
     "metadata": {},
     "output_type": "execute_result"
    }
   ],
   "source": [
    "pulp.LpStatus[result]"
   ]
  },
  {
   "cell_type": "markdown",
   "metadata": {
    "id": "KmLkvornppYX"
   },
   "source": [
    "### 結果の表示"
   ]
  },
  {
   "cell_type": "code",
   "execution_count": 21,
   "metadata": {
    "colab": {
     "base_uri": "https://localhost:8080/"
    },
    "id": "gAblfDnRS43H",
    "outputId": "87a91bee-a876-4f59-aae0-ddf95d548a43"
   },
   "outputs": [
    {
     "data": {
      "text/plain": [
       "18.0"
      ]
     },
     "execution_count": 21,
     "metadata": {},
     "output_type": "execute_result"
    }
   ],
   "source": [
    "pulp.value(p.objective)"
   ]
  },
  {
   "cell_type": "code",
   "execution_count": 22,
   "metadata": {
    "colab": {
     "base_uri": "https://localhost:8080/"
    },
    "id": "x9mGsZiTTO4m",
    "outputId": "8b5f18e4-3f54-4887-ce18-e26269c9b4a8"
   },
   "outputs": [
    {
     "name": "stdout",
     "output_type": "stream",
     "text": [
      "x1 = 6.0\n",
      "x2 = 6.0\n"
     ]
    }
   ],
   "source": [
    "for x in p.variables():\n",
    "    print(f'{x} = {pulp.value(x)}')"
   ]
  }
 ],
 "metadata": {
  "colab": {
   "name": "放送大学授業 数理最適化演習 第2回 ソルバーの導入",
   "provenance": [],
   "toc_visible": true
  },
  "kernelspec": {
   "display_name": "Python 3 (ipykernel)",
   "language": "python",
   "name": "python3"
  },
  "language_info": {
   "codemirror_mode": {
    "name": "ipython",
    "version": 3
   },
   "file_extension": ".py",
   "mimetype": "text/x-python",
   "name": "python",
   "nbconvert_exporter": "python",
   "pygments_lexer": "ipython3",
   "version": "3.10.0"
  }
 },
 "nbformat": 4,
 "nbformat_minor": 4
}
